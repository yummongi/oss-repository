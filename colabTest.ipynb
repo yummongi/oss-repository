{
  "nbformat": 4,
  "nbformat_minor": 0,
  "metadata": {
    "colab": {
      "provenance": [],
      "authorship_tag": "ABX9TyPr52jtEoNt2oHMlLAIPoqN",
      "include_colab_link": true
    },
    "kernelspec": {
      "name": "python3",
      "display_name": "Python 3"
    },
    "language_info": {
      "name": "python"
    }
  },
  "cells": [
    {
      "cell_type": "markdown",
      "metadata": {
        "id": "view-in-github",
        "colab_type": "text"
      },
      "source": [
        "<a href=\"https://colab.research.google.com/github/yummongi/oss-repository/blob/main/%08colabTest.ipynb\" target=\"_parent\"><img src=\"https://colab.research.google.com/assets/colab-badge.svg\" alt=\"Open In Colab\"/></a>"
      ]
    },
    {
      "cell_type": "markdown",
      "source": [
        "# colab 연습 📖"
      ],
      "metadata": {
        "id": "e2tZSU-y5q3b"
      }
    },
    {
      "cell_type": "code",
      "execution_count": 2,
      "metadata": {
        "id": "bEfLgSmM3oeb"
      },
      "outputs": [],
      "source": [
        "import pandas as pd"
      ]
    },
    {
      "cell_type": "code",
      "source": [
        "df = pd.read_csv('sample_data/california_housing_test.csv');\n",
        "df.head(10);"
      ],
      "metadata": {
        "id": "RuKMqOg74QNQ"
      },
      "execution_count": 3,
      "outputs": []
    },
    {
      "cell_type": "markdown",
      "source": [
        "**해당 지역 집의 나이의 평균은 얼마일까?**"
      ],
      "metadata": {
        "id": "oib1kutM5VbN"
      }
    },
    {
      "cell_type": "code",
      "source": [
        "df['housing_median_age'].mean()"
      ],
      "metadata": {
        "colab": {
          "base_uri": "https://localhost:8080/"
        },
        "id": "FPs22Cw-5S0L",
        "outputId": "29e4919c-fae5-4969-c30e-cbe42a10bb49"
      },
      "execution_count": 13,
      "outputs": [
        {
          "output_type": "execute_result",
          "data": {
            "text/plain": [
              "28.845333333333333"
            ]
          },
          "metadata": {},
          "execution_count": 13
        }
      ]
    }
  ]
}